{
 "cells": [
  {
   "cell_type": "code",
   "execution_count": 1,
   "metadata": {},
   "outputs": [
    {
     "name": "stdout",
     "output_type": "stream",
     "text": [
      "PyTorch version: 1.6.0\n"
     ]
    }
   ],
   "source": [
    "# imports\n",
    "import torch\n",
    "import PyTorchDIA_CCD\n",
    "import numpy as np\n",
    "from astropy.io import fits\n",
    "from astropy.stats import mad_std\n",
    "import os\n",
    "from scipy.signal import convolve2d as conv\n",
    "from skimage.feature import register_translation\n",
    "from scipy.ndimage import shift\n",
    "from ccdproc import cosmicray_lacosmic as lacosmic\n",
    "import matplotlib.pyplot as plt\n",
    "%matplotlib inline"
   ]
  },
  {
   "cell_type": "code",
   "execution_count": 2,
   "metadata": {},
   "outputs": [],
   "source": [
    "## Specify a few useful functions ##\n",
    "def convert_to_tensor(data):\n",
    "    # converts np array to F32 tensor\n",
    "    data = data.astype(np.float32)\n",
    "    data = np.array([[data]])\n",
    "    tensor = torch.from_numpy(data)\n",
    "    return tensor\n",
    "\n",
    "## save results\n",
    "def save_numpy_as_fits(numpy_array, filename):\n",
    "    hdu = fits.PrimaryHDU(numpy_array)\n",
    "    hdul = fits.HDUList([hdu])\n",
    "    hdul.writeto(filename, overwrite=True)\n",
    "\n",
    "## zero-pad\n",
    "def extend_image_hw(image, kernel_size):\n",
    "    image_extended = np.zeros((np.shape(image)[0] + kernel_size - 1,\n",
    "                             np.shape(image)[1] + kernel_size - 1))\n",
    "    hwidth = np.int((kernel_size - 1) / 2)\n",
    "    image_extended[hwidth:image_extended.shape[0]-hwidth,\n",
    "                   hwidth:image_extended.shape[1]-hwidth] = np.array(image, float)\n",
    "    return image_extended\n",
    "\n",
    "## negative log-likelihood\n",
    "# EMCCD detector parameters\n",
    "gain = 7.7\n",
    "rdnoise = 10.5 / gain\n",
    "\n",
    "def nll(prediction, data, rdnoise, gain, param_vector, lam):\n",
    "    \n",
    "\n",
    "    var = torch.clamp(prediction / gain, min=0.) + rdnoise**2\n",
    "    chi2 = torch.sum((prediction - data) ** 2 / var)\n",
    "    ln_sigma = torch.sum(torch.log(var))\n",
    "    ll = - 0.5 * (chi2 + ln_sigma)\n",
    "    \n",
    "    ### create high frequency version of image by applying derivative filters ###\n",
    "    \n",
    "    ## create derivative filters and cast as tensors\n",
    "    sy = np.array([[1, 2, 1],\n",
    "                  [0, 0, 0],\n",
    "                  [-1, -2, -1]])\n",
    "\n",
    "    sx = np.array([[1, 0, -1],\n",
    "                   [2, 0, -2],\n",
    "                   [1, 0, -1]])\n",
    "    \n",
    "    # weights need to be [1, 1, xd, yd]\n",
    "    syt = torch.Tensor(sy)[None, None, : ,:]\n",
    "    sxt = torch.Tensor(sx)[None, None, : ,:]\n",
    "    \n",
    "    # gradient images\n",
    "    xgrad = torch.nn.functional.conv2d(param_vector, sxt, padding=1)\n",
    "    ygrad = torch.nn.functional.conv2d(param_vector, syt, padding=1)\n",
    "    \n",
    "    '''\n",
    "    plt.imshow(xgrad[0][0].detach(), origin='lower')\n",
    "    plt.colorbar()\n",
    "    plt.show();\n",
    "    \n",
    "    plt.imshow(ygrad[0][0].detach(), origin='lower')\n",
    "    plt.colorbar()\n",
    "    plt.show();\n",
    "    '''\n",
    "    '''\n",
    "    ## l1 / l2 norm of high frequencies \n",
    "    #prior = - lam * (torch.abs(xgrad + ygrad) / (xgrad + ygrad)**2)\n",
    "    #prior = - lam * ((torch.abs(xgrad)/(xgrad)**2) + (torch.abs(ygrad)/(ygrad)**2))\n",
    "    \n",
    "    x1_x2 = torch.abs(xgrad)/(xgrad)**2\n",
    "    y1_y2 = torch.abs(ygrad)/(ygrad)**2\n",
    "    \n",
    "    with torch.no_grad():\n",
    "        if torch.isnan(y1_y2).any() == True:\n",
    "            print('NaNs in ygrads... replacing')\n",
    "            #y1_y2[torch.isnan(y1_y2) == True] = torch.nanmedian(y1_y2)\n",
    "            y1_y2[torch.isnan(y1_y2) == True] = torch.from_numpy(np.nanmedian(y1_y2.detach())).astype(float)\n",
    "\n",
    "        if torch.isnan(x1_x2).any() == True:\n",
    "            print('NaNs in xgrads... replacing')\n",
    "            #x1_x2[torch.isnan(x1_x2) == True] = torch.nanmedian(x1_x2)\n",
    "            x1_x2[torch.isnan(x1_x2) == True] = torch.from_numpy(np.nanmedian(x1_x2.detach())).astype(float)\n",
    "\n",
    "    \n",
    "        ## implement some sort of clip against bad grad values\n",
    "        clip_x1_x2 = np.percentile(x1_x2.detach(), 99)\n",
    "        clip_y1_y2 = np.percentile(y1_y2.detach(), 99)\n",
    "\n",
    "        print(clip_x1_x2, clip_y1_y2)\n",
    "        \n",
    "    x1_x2[x1_x2 > clip_x1_x2] = clip_x1_x2\n",
    "    y1_y2[y1_y2 > clip_y1_y2] = clip_y1_y2\n",
    "    \n",
    "    prior = - lam * (x1_x2 + y1_y2)\n",
    "    \n",
    "    print('ll:', ll)\n",
    "    print('prior:', torch.sum(prior))\n",
    "\n",
    "    ll += torch.sum(prior)\n",
    "    \n",
    "    '''\n",
    "    '''\n",
    "    try:\n",
    "    \n",
    "        x1, y1 = torch.abs(xgrad), torch.abs(ygrad)\n",
    "\n",
    "        with torch.no_grad():\n",
    "            ## implement some sort of clip against bad grad values\n",
    "            clip_x1 = np.percentile(x1.detach(), 99)\n",
    "            clip_y1 = np.percentile(y1.detach(), 99)\n",
    "\n",
    "        x1[x1 > clip_x1] = clip_x1\n",
    "        y1[y1 > clip_y1] = clip_y1\n",
    "\n",
    "        prior = - lam * (x1 + y1)\n",
    "        \n",
    "        print('ll:', ll)\n",
    "        print('prior:', torch.sum(prior))\n",
    "        \n",
    "        ll += torch.sum(prior)\n",
    "    \n",
    "    except TypeError:\n",
    "        print('TypeError...')\n",
    "    \n",
    "    '''\n",
    "    \n",
    "    try:\n",
    "        x2, y2 = xgrad ** 2, ygrad ** 2\n",
    "\n",
    "        with torch.no_grad():\n",
    "            ## implement some sort of clip against bad grad values\n",
    "            clip_x2 = np.percentile(x2.detach(), 99)\n",
    "            clip_y2 = np.percentile(y2.detach(), 99)\n",
    "\n",
    "        x2[x2 > clip_x2] = clip_x2\n",
    "        y2[y2 > clip_y2] = clip_y2\n",
    "\n",
    "        prior = - lam * (x2 + y2)\n",
    "\n",
    "        print('ll:', ll)\n",
    "        print('prior:', torch.sum(prior))\n",
    "        \n",
    "        ll += torch.sum(prior)\n",
    "    \n",
    "    except TypeError:\n",
    "        print('TypeError...')\n",
    "    \n",
    "    \n",
    "    return -ll"
   ]
  },
  {
   "cell_type": "code",
   "execution_count": 3,
   "metadata": {},
   "outputs": [
    {
     "name": "stdout",
     "output_type": "stream",
     "text": [
      "(1000, 1000)\n",
      "Median pixel level: 54.47574\n"
     ]
    }
   ],
   "source": [
    "## load initial estimate of the scene\n",
    "\n",
    "# crop images by this much...\n",
    "def crop_image(image):\n",
    "    cropped = image[250:1250, 1000:2000]\n",
    "    #cropped = image[500:1000, 1250:1750]    \n",
    "    #cropped = image[0:1100, 0:1100]\n",
    "    return cropped\n",
    "\n",
    "# initialise scene\n",
    "path = '/media/jah94/Seagate_Expansion_Drive#2/2019to2020_NGC4395_PowerSpecImages/ImagesTransportFolder/LCO/'\n",
    "#scene_master = fits.getdata(os.path.join(path, 'LCO_HaleakalaSpectral_NGC4395_Gband_20200607-0064.fits'))\n",
    "scene_master = fits.getdata(os.path.join(path, 'LCO_HaleakalaSpectral_NGC4395_Gband_20200607-0064.fits'))\n",
    "\n",
    "# filter cosmics\n",
    "scene_master = lacosmic(scene_master)[0]\n",
    "\n",
    "scene = crop_image(scene_master)\n",
    "\n",
    "print(scene.shape)\n",
    "\n",
    "# sky subtract\n",
    "print('Median pixel level:', np.median(scene))\n",
    "scene -= np.median(scene)\n",
    "\n",
    "# positivity\n",
    "#scene[scene < 0] = 0\n",
    "\n",
    "s0 = np.copy(scene)\n",
    "save_numpy_as_fits(s0, 's0.fits')\n",
    "#plt.imshow(s0, origin='lower')\n",
    "#plt.colorbar();"
   ]
  },
  {
   "cell_type": "code",
   "execution_count": 4,
   "metadata": {},
   "outputs": [],
   "source": [
    "# data images\n",
    "images = []\n",
    "for d, s, files in os.walk(path):\n",
    "    for file in files:\n",
    "        if 'LCO_' in file:\n",
    "            images.append(file)\n",
    "            \n",
    "#images"
   ]
  },
  {
   "cell_type": "code",
   "execution_count": 5,
   "metadata": {},
   "outputs": [],
   "source": [
    "# convert scene to tensor\n",
    "scene = fits.getdata('Quality Tests/84_Model_phik1_LaPlace_1e-1_L2grad_1e-5_clip_annealLR_pass1.fits')\n",
    "scene = convert_to_tensor(scene)\n",
    "#s0 = np.copy(scene[0][0].numpy())\n",
    "scene.requires_grad = True # the scene is a parameter"
   ]
  },
  {
   "cell_type": "code",
   "execution_count": 1,
   "metadata": {},
   "outputs": [
    {
     "ename": "NameError",
     "evalue": "name 'images' is not defined",
     "output_type": "error",
     "traceback": [
      "\u001b[0;31m---------------------------------------------------------------------------\u001b[0m",
      "\u001b[0;31mNameError\u001b[0m                                 Traceback (most recent call last)",
      "\u001b[0;32m<ipython-input-1-fde26e98fea9>\u001b[0m in \u001b[0;36m<module>\u001b[0;34m\u001b[0m\n\u001b[1;32m      5\u001b[0m \u001b[0;32mfor\u001b[0m \u001b[0mp\u001b[0m \u001b[0;32min\u001b[0m \u001b[0mrange\u001b[0m\u001b[0;34m(\u001b[0m\u001b[0;36m2\u001b[0m\u001b[0;34m,\u001b[0m \u001b[0;36m6\u001b[0m\u001b[0;34m)\u001b[0m\u001b[0;34m:\u001b[0m\u001b[0;34m\u001b[0m\u001b[0;34m\u001b[0m\u001b[0m\n\u001b[1;32m      6\u001b[0m     \u001b[0;31m# online optimisation: load one 'n' image at a time\u001b[0m\u001b[0;34m\u001b[0m\u001b[0;34m\u001b[0m\u001b[0;34m\u001b[0m\u001b[0m\n\u001b[0;32m----> 7\u001b[0;31m     \u001b[0;32mfor\u001b[0m \u001b[0mn\u001b[0m \u001b[0;32min\u001b[0m \u001b[0mrange\u001b[0m\u001b[0;34m(\u001b[0m\u001b[0;36m0\u001b[0m\u001b[0;34m,\u001b[0m \u001b[0mlen\u001b[0m\u001b[0;34m(\u001b[0m\u001b[0mimages\u001b[0m\u001b[0;34m)\u001b[0m\u001b[0;34m)\u001b[0m\u001b[0;34m:\u001b[0m\u001b[0;34m\u001b[0m\u001b[0;34m\u001b[0m\u001b[0m\n\u001b[0m\u001b[1;32m      8\u001b[0m \u001b[0;34m\u001b[0m\u001b[0m\n\u001b[1;32m      9\u001b[0m         \u001b[0mprint\u001b[0m\u001b[0;34m(\u001b[0m\u001b[0;34m'Image %d/%d'\u001b[0m \u001b[0;34m%\u001b[0m \u001b[0;34m(\u001b[0m\u001b[0mn\u001b[0m\u001b[0;34m,\u001b[0m \u001b[0mlen\u001b[0m\u001b[0;34m(\u001b[0m\u001b[0mimages\u001b[0m\u001b[0;34m)\u001b[0m\u001b[0;34m)\u001b[0m\u001b[0;34m)\u001b[0m\u001b[0;34m\u001b[0m\u001b[0;34m\u001b[0m\u001b[0m\n",
      "\u001b[0;31mNameError\u001b[0m: name 'images' is not defined"
     ]
    }
   ],
   "source": [
    "## Thresh!!\n",
    "\n",
    "\n",
    "# make multiple passes over the data\n",
    "for p in range(2, 6):\n",
    "    # online optimisation: load one 'n' image at a time\n",
    "    for n in range(0, len(images)):\n",
    "\n",
    "        print('Image %d/%d' % (n, len(images)))\n",
    "        print('Image Name:', images[n])\n",
    "\n",
    "        # load image and apply crop        \n",
    "        #y = crop(fits.getdata(os.path.join(path, spool))[n], crop_size)\n",
    "        y = fits.getdata(os.path.join(path, images[n]))\n",
    "        \n",
    "        # filter cosmics\n",
    "        y = lacosmic(y)[0]\n",
    "\n",
    "        # subpixel precision shifts (via cross-correlation between R(_master) and I)\n",
    "        shifts, error, diffphase = register_translation(scene_master, y, 100)\n",
    "        xs, ys = shifts[1], shifts[0]\n",
    "\n",
    "        print('x-shift:', xs)\n",
    "        print('y-shift:', ys)\n",
    "        \n",
    "        # don't difference against the initialisation\n",
    "        if xs == 0. and ys == 0.:\n",
    "            continue\n",
    "        \n",
    "        y = shift(y, (int(ys), int(xs)), order=0, cval=0)\n",
    "        y = crop_image(y)\n",
    "        \n",
    "        save_numpy_as_fits(y, 'y.fits')\n",
    "        \n",
    "        # guard against excessively large shifts\n",
    "        if (y == 0).any() == True:\n",
    "            continue\n",
    "            \n",
    "        \n",
    "        '''\n",
    "        # footprint (indicates where shifted I has been filled past edges, cval=0)\n",
    "        footprint = np.zeros(y.shape, dtype=bool)\n",
    "        footprint[y == 0] = True\n",
    "        \n",
    "        # crop footprint\n",
    "        footprint = crop_image(footprint)\n",
    "        y = crop_image(I)\n",
    "        '''\n",
    "        \n",
    "        ## convolve scene with near diffraction limited kernel\n",
    "        ## we'll go for a symmetrical gaussian\n",
    "        ks = 19\n",
    "        phi_k = 1\n",
    "        nx, ny = (ks, ks) # kernel object shape\n",
    "        xg, yg = np.meshgrid(range(nx), range(ny))\n",
    "        xc, yc = (np.int(nx/2), np.int(ny/2))\n",
    "        kernel = np.exp(-0.5 * ((xg - xc) ** 2 + (yg - yc) ** 2) / phi_k ** 2)\n",
    "        kernel /= np.sum(kernel) # normalise to 1\n",
    "        kernel = convert_to_tensor(kernel)\n",
    "\n",
    "        # kernel convolved scene\n",
    "        # we do not want to start adding operations to the computational graph here, as this will screw\n",
    "        # with the 'PSF' inference. This is fine, as the PSF inference and scene update can be split\n",
    "        # into two independent stages.\n",
    "        with torch.no_grad():\n",
    "            kc_scene = torch.nn.functional.conv2d(scene, kernel, bias=None, padding=np.int(((ks - 1)/2))) \n",
    "            #kc_scene = scene\n",
    "            save_numpy_as_fits(kc_scene.detach().numpy(), 'kc_scene.fits')\n",
    "\n",
    "        # infer 'dPSF', differential background and bias offset\n",
    "        kernel_size = 15\n",
    "\n",
    "        psf, sky = PyTorchDIA_CCD.DIA(kc_scene,\n",
    "                                   y,\n",
    "                                   np.ones(y.shape), # flatfield\n",
    "                                   rdnoise = rdnoise,\n",
    "                                   G = gain,\n",
    "                                   ks = kernel_size,\n",
    "                                   lr_kernel = 1e-3,\n",
    "                                   lr_B = 1e1,\n",
    "                                   max_iterations = 25000,\n",
    "                                   poly_degree=0,\n",
    "                                   alpha = 1e-1, # 1e6\n",
    "                                   Newton_tol = 1e-10,\n",
    "                                   tol = 1e-6,\n",
    "                                   fast=True,\n",
    "                                   fisher=False,\n",
    "                                   show_convergence_plots=True)\n",
    "        \n",
    "\n",
    "        plt.imshow(psf)\n",
    "        plt.colorbar()\n",
    "        plt.show()\n",
    "        \n",
    "        if np.isnan(psf).any() == False:\n",
    "\n",
    "            # convert y and psf to tensors\n",
    "            y, psf = convert_to_tensor(y), convert_to_tensor(psf)\n",
    "\n",
    "            # re-compute the kernel convolved scene\n",
    "            kc_scene = torch.nn.functional.conv2d(scene, kernel, bias=None, padding=np.int(((ks - 1)/2)))\n",
    "            #kc_scene = scene\n",
    "\n",
    "            ## convolve the scene to match the sky subtracted image\n",
    "            # prediction = psf*scene + sky (...the bias drift offset enters later)\n",
    "            prediction = torch.nn.functional.conv2d(kc_scene, psf, bias=None, padding=np.int(((kernel_size - 1)/2))) \n",
    "            prediction += torch.tensor(sky)\n",
    "            \n",
    "            save_numpy_as_fits(y.detach().numpy() - prediction.detach().numpy(), 'D.fits')\n",
    "\n",
    "\n",
    "            print(kc_scene.size())\n",
    "            # compute the loss (negative log-likelihood)\n",
    "            loss = nll(prediction, y, rdnoise, gain, kc_scene, lam=1e-5)\n",
    "\n",
    "            # steepest descent - note we update w.r.t to the scene,\n",
    "            # we update in our parameters!\n",
    "            dl_ds = torch.autograd.grad(loss, kc_scene)[0]\n",
    "\n",
    "\n",
    "            # step size\n",
    "            beta, t0 = len(images), len(images) / 10\n",
    "            if p == 0:\n",
    "                alpha_t = beta / (t0 + n)\n",
    "            else:\n",
    "                alpha_t = beta / (t0 + len(images))\n",
    "                \n",
    "            print('Step size:', alpha_t)\n",
    "\n",
    "            # take a single gradient step\n",
    "            scene = scene - alpha_t * dl_ds\n",
    "\n",
    "            # enforce positivity (+ optionally sky subtract?)\n",
    "            #with torch.no_grad():\n",
    "            #    scene -= torch.median(scene)\n",
    "            #    scene.clamp_(min=0)\n",
    "            \n",
    "            # 'clean' bad negative outliers\n",
    "            with torch.no_grad():\n",
    "                mad = mad_std(scene.detach().numpy())\n",
    "                print('MAD:', mad)\n",
    "                scene[scene < (torch.median(scene) - 3*mad)] = torch.median(scene)\n",
    "\n",
    "            if n % 83 == 0:\n",
    "\n",
    "                plt.figure()\n",
    "                plt.title('Inferred PSF')\n",
    "                plt.imshow(psf[0][0], origin='lower')\n",
    "                plt.colorbar();\n",
    "                #plt.savefig('Inferred_PSF_PGN.png')\n",
    "                plt.show();\n",
    "\n",
    "                plot_scene = scene[0][0].detach().numpy()\n",
    "\n",
    "                plt.figure()\n",
    "                plt.imshow(plot_scene, origin='lower')\n",
    "                plt.colorbar()\n",
    "                plt.show();\n",
    "\n",
    "                plt.figure()\n",
    "                plt.imshow(plot_scene - s0, origin='lower')\n",
    "                plt.colorbar()\n",
    "                plt.show();\n",
    "\n",
    "\n",
    "                save_numpy_as_fits(plot_scene,\n",
    "                 'SceneEstimates/%d_Model_phik1_LaPlace_1e-1_L2grad_1e-5_clip_annealLR_pass%d.fits' % ((n+1), p))"
   ]
  },
  {
   "cell_type": "markdown",
   "metadata": {},
   "source": [
    "Having established that the fitted models do indeed appear to be useful for measurement, (at least) one major challenge remains - What is the source of the rings? This can be generated by either 1) violation of the sampling theorem, or 2) bad blur kernel estimation.\n",
    "\n",
    "Another key problem to address is noise amplification in the model.\n",
    "\n",
    "A good solution to guarding against both these problems is to add some sort of sparsity penalty on the blur kernel. This guards against excessively noisy kernels -- which otherwise propagate noise into the model -- and appears to reduce, or altogether eliminate ringing. Unfortunately, the width of the PSF in the model tends to be broadened. This could be due to underestimation of the width of the true kernel (i.e. sparisity pushes the 'wings' of the kernel to zero'). We seek then a balance between suppressing noise and not unduly sharpening the kernel.\n",
    "\n",
    "Deconvolving to a scene which is at least critically sampled also guards against ringing, but doesn't help on the noise amplification front. Indeed, if anything, this is expected to make the problem worse, as correlated noise will be introduced by this change to the algorithm. If we're not at risk over overdeconvolving, maybe there's no need for this approach.\n",
    "\n",
    "Regularisaiton of the model image then is worth exploring. Traditionally, L2 regularisation on the gradients (Tikhonov) has proven an effective guard against noise amplification, and retains attractive convergence properties. Unfortunately, it favours blurry images over sharp ones. Applying the L1 norm to gradients also favours blur... but what about the ratio of the L1 to the L2 i.e. a scale-variant L1 norm?? This appears to introduce badly correlated noise...\n",
    "L1 norm on gradients should not smooth edges as badly as L2, so let's give this a go too.\n",
    "\n",
    "Alternatively, why not try a different penalty term for the kernel? Like a Laplacian / connectivity graph penalty? This may keep the kernel wings (provided they're smooth) while penalising noise. This type of regularisation can have the opposite effect to L1 - if the kernel is oversmoothed (i.e. too wide instead of too narrow!) the scene will \"over-deconvolve\", and you get rings around the point sources, regardless of using a light-deconvolution kernel.\n",
    "\n",
    "Ringing around the inferred blur kernel is also seen in some instances. Enforcing positivity here may also be useful. Also, I've seen some approaches in the literature which clip pixels in the kernel below a certain threshold to mititage noise.\n",
    "\n",
    "Positivity constraints cause bad things to happen... and will badly affect the faint sources, so I can't confidently justify there useage.\n",
    "\n",
    "It may be that regularisation to suppress noise is doomed to fail... update clipping may provide a better solution. Or... just iterate for longer such that the sources are 'lifted' out of the noise. If the data is informative, I think this should result."
   ]
  },
  {
   "cell_type": "code",
   "execution_count": 1,
   "metadata": {},
   "outputs": [
    {
     "name": "stdout",
     "output_type": "stream",
     "text": [
      "PyTorch version: 1.6.0\n"
     ]
    }
   ],
   "source": [
    "# trial photometric accuracy of model image - can the model be used for measurement?\n",
    "import numpy as np\n",
    "import torch\n",
    "import os\n",
    "from astropy.io import fits\n",
    "from scipy.stats import norm\n",
    "from skimage.feature import register_translation\n",
    "from scipy.ndimage import shift\n",
    "from ccdproc import cosmicray_lacosmic as lacosmic\n",
    "import PyTorchDIA_CCD\n",
    "import matplotlib.pyplot as plt\n",
    "%matplotlib inline"
   ]
  },
  {
   "cell_type": "code",
   "execution_count": 2,
   "metadata": {},
   "outputs": [],
   "source": [
    "def crop_image(image):\n",
    "    cropped = image[500:1000, 1250:1750]    \n",
    "    #cropped = image[250:1250, 1000:2000]\n",
    "    return cropped\n",
    "\n",
    "def convert_to_tensor(data):\n",
    "    # converts np array to F32 tensor\n",
    "    data = data.astype(np.float32)\n",
    "    data = np.array([[data]])\n",
    "    tensor = torch.from_numpy(data)\n",
    "    return tensor"
   ]
  },
  {
   "cell_type": "code",
   "execution_count": 3,
   "metadata": {},
   "outputs": [
    {
     "data": {
      "text/plain": [
       "((500, 500), (500, 500), (2009, 2009))"
      ]
     },
     "execution_count": 3,
     "metadata": {},
     "output_type": "execute_result"
    }
   ],
   "source": [
    "## load a model\n",
    "#model_file = '62_LCOTestRun_phik1_L1_1e6_pass1.fits' # model\n",
    "#model_file = '51_LCOTestRun_phik1_L1_1e6_pass5.fits' # model\n",
    "#model_file = '56_LCO_Model_phik1_L1_1e6_L2grad_1e-8_pass0.fits'\n",
    "#model_file = '56_LCO_Model_phik1_L1_1e6_pass0.fits'\n",
    "#model_file = '81_LCO_phik1_LaPlace_1e-1_L2grad_1e-5_clip_annealLR_pass0.fits'\n",
    "model_file = '81_LCO_phik1_LaPlace_1e-1_L2grad_1e-5_clip_annealLR_pass1.fits'\n",
    "\n",
    "\n",
    "ref_file = 'LCO_HaleakalaSpectral_NGC4395_Gband_20200607-0064.fits' # comparson reference image\n",
    "path = '/media/jah94/Seagate_Expansion_Drive#2/2019to2020_NGC4395_PowerSpecImages/ImagesTransportFolder/LCO/'\n",
    "model = fits.getdata(os.path.join('SceneEstimates', model_file))\n",
    "ref0_master = fits.getdata(os.path.join(path, ref_file))\n",
    "ref0_master = lacosmic(ref0_master)[0] # filter cosmics\n",
    "ref0 = crop_image(ref0_master)\n",
    "model.shape, ref0.shape, ref0_master.shape"
   ]
  },
  {
   "cell_type": "code",
   "execution_count": 4,
   "metadata": {},
   "outputs": [
    {
     "name": "stdout",
     "output_type": "stream",
     "text": [
      "x-shift: 28.09\n",
      "y-shift: 39.35\n"
     ]
    },
    {
     "data": {
      "text/plain": [
       "(500, 500)"
      ]
     },
     "execution_count": 4,
     "metadata": {},
     "output_type": "execute_result"
    }
   ],
   "source": [
    "## example data file\n",
    "#data_file = 'LCO_HaleakalaSpectral_NGC4395_Gband_20191227-0159.fits'\n",
    "\n",
    "data_file = 'LCO_HaleakalaSpectral_NGC4395_Gband_20200101-0139.fits'\n",
    "\n",
    "y = fits.getdata(os.path.join(path, data_file))\n",
    "\n",
    "# filter cosmics\n",
    "y = lacosmic(y)[0]\n",
    "\n",
    "## find shift and align images\n",
    "\n",
    "# subpixel precision shifts (via cross-correlation between R(_master) and I)\n",
    "shifts, error, diffphase = register_translation(ref0_master, y, 100)\n",
    "xs, ys = shifts[1], shifts[0]\n",
    "\n",
    "print('x-shift:', xs)\n",
    "print('y-shift:', ys)\n",
    "\n",
    "y = shift(y, (int(ys), int(xs)), order=0, cval=0)\n",
    "y = crop_image(y)\n",
    "y.shape"
   ]
  },
  {
   "cell_type": "code",
   "execution_count": 5,
   "metadata": {},
   "outputs": [
    {
     "name": "stdout",
     "output_type": "stream",
     "text": [
      "--- Time to move data onto GPU: 1.718235731124878 ---\n",
      "Check dtype of data and weights:\n",
      "torch.float32 torch.float32 torch.float32 torch.float32\n",
      "Check size of data and weights:\n",
      "torch.Size([1, 1, 500, 500]) torch.Size([1, 1, 500, 500]) torch.Size([1, 1, 19, 19]) torch.Size([1])\n",
      "Starting optimisation\n",
      "Switching to Quasi-Newton step after 217 SD steps\n",
      "Converged!\n",
      "Total steps taken: 220\n",
      "SD steps: 217\n",
      "L-BFGS steps: 3\n",
      "--- Finished kernel and background fit in 3.62011981010437 seconds ---\n",
      "Photometric scaling: tensor(1.0946965218, device='cuda:0', grad_fn=<SumBackward0>)\n",
      "B_0: 57.489036560058594\n"
     ]
    },
    {
     "data": {
      "image/png": "[encoded data removed]",
      "text/plain": [
       "<Figure size 432x288 with 1 Axes>"
      ]
     },
     "metadata": {
      "needs_background": "light"
     },
     "output_type": "display_data"
    },
    {
     "name": "stdout",
     "output_type": "stream",
     "text": [
      "Not flipping kernel, as passed to torch.nn.functional.conv2d!\n",
      "--- Finished in a total of 5.478649139404297 seconds ---\n"
     ]
    },
    {
     "data": {
      "image/png": "[encoded data removed]",
      "text/plain": [
       "<Figure size 432x288 with 2 Axes>"
      ]
     },
     "metadata": {
      "needs_background": "light"
     },
     "output_type": "display_data"
    }
   ],
   "source": [
    "## DIA\n",
    "G = 7.7\n",
    "rdnoise = 10.5 / G\n",
    "kernel_r, B0_r = PyTorchDIA_CCD.DIA(ref0 - np.median(ref0),\n",
    "                                    y,\n",
    "                                    np.ones(y.shape),\n",
    "                                    rdnoise = rdnoise,\n",
    "                                    G = G,\n",
    "                                    ks = 19,\n",
    "                                    lr_kernel = 1e-3,\n",
    "                                    lr_B = 1e1,\n",
    "                                    show_convergence_plots=True)\n",
    "\n",
    "plt.imshow(kernel_r)\n",
    "plt.colorbar();"
   ]
  },
  {
   "cell_type": "code",
   "execution_count": 6,
   "metadata": {},
   "outputs": [
    {
     "name": "stdout",
     "output_type": "stream",
     "text": [
      "--- Time to move data onto GPU: 0.0009410381317138672 ---\n",
      "Check dtype of data and weights:\n",
      "torch.float32 torch.float32 torch.float32 torch.float32\n",
      "Check size of data and weights:\n",
      "torch.Size([1, 1, 500, 500]) torch.Size([1, 1, 500, 500]) torch.Size([1, 1, 19, 19]) torch.Size([1])\n",
      "Starting optimisation\n",
      "Switching to Quasi-Newton step after 254 SD steps\n",
      "Converged!\n",
      "Total steps taken: 259\n",
      "SD steps: 254\n",
      "L-BFGS steps: 5\n",
      "--- Finished kernel and background fit in 4.266676425933838 seconds ---\n",
      "Photometric scaling: tensor(1.0916992426, device='cuda:0', grad_fn=<SumBackward0>)\n",
      "B_0: 57.0067138671875\n"
     ]
    },
    {
     "data": {
      "image/png": "[encoded data removed]",
      "text/plain": [
       "<Figure size 432x288 with 1 Axes>"
      ]
     },
     "metadata": {
      "needs_background": "light"
     },
     "output_type": "display_data"
    },
    {
     "name": "stdout",
     "output_type": "stream",
     "text": [
      "Not flipping kernel, as passed to torch.nn.functional.conv2d!\n",
      "--- Finished in a total of 4.40822434425354 seconds ---\n"
     ]
    },
    {
     "data": {
      "image/png": "[encoded data removed]",
      "text/plain": [
       "<Figure size 432x288 with 2 Axes>"
      ]
     },
     "metadata": {
      "needs_background": "light"
     },
     "output_type": "display_data"
    }
   ],
   "source": [
    "kernel_m, B0_m = PyTorchDIA_CCD.DIA(model - np.median(model),\n",
    "                                    y,\n",
    "                                    np.ones(y.shape),\n",
    "                                    rdnoise = rdnoise,\n",
    "                                    G = G,\n",
    "                                    ks = 19,\n",
    "                                    lr_kernel = 1e-3,\n",
    "                                    lr_B = 1e1,\n",
    "                                    show_convergence_plots=True)\n",
    "\n",
    "plt.imshow(kernel_m)\n",
    "plt.colorbar();"
   ]
  },
  {
   "cell_type": "code",
   "execution_count": 7,
   "metadata": {},
   "outputs": [],
   "source": [
    "# predictions / models\n",
    "kernel_size = 19\n",
    "ref0, kernel_r = convert_to_tensor(ref0), convert_to_tensor(kernel_r)\n",
    "model, kernel_m = convert_to_tensor(model), convert_to_tensor(kernel_m)\n",
    "\n",
    "prediction_r = torch.nn.functional.conv2d(ref0 - torch.median(ref0), kernel_r,\n",
    "                                          bias=None, padding=np.int(((kernel_size - 1)/2))) \n",
    "prediction_r += torch.tensor(B0_r)\n",
    "\n",
    "prediction_m = torch.nn.functional.conv2d(model - torch.median(model), kernel_m,\n",
    "                                          bias=None, padding=np.int(((kernel_size - 1)/2))) \n",
    "prediction_m += torch.tensor(B0_m)"
   ]
  },
  {
   "cell_type": "code",
   "execution_count": 8,
   "metadata": {},
   "outputs": [],
   "source": [
    "# difference\n",
    "y = convert_to_tensor(y)\n",
    "D_r = y - prediction_r\n",
    "D_m = y - prediction_m"
   ]
  },
  {
   "cell_type": "code",
   "execution_count": 9,
   "metadata": {},
   "outputs": [],
   "source": [
    "## save results\n",
    "def save_numpy_as_fits(numpy_array, filename):\n",
    "    hdu = fits.PrimaryHDU(numpy_array)\n",
    "    hdul = fits.HDUList([hdu])\n",
    "    hdul.writeto(filename, overwrite=True)\n",
    "    \n",
    "save_numpy_as_fits(D_r, 'D_r.fits')\n",
    "save_numpy_as_fits(D_m, 'D_m.fits')"
   ]
  },
  {
   "cell_type": "code",
   "execution_count": 10,
   "metadata": {},
   "outputs": [
    {
     "data": {
      "text/plain": [
       "(tensor(46385600.), tensor(44401488.))"
      ]
     },
     "execution_count": 10,
     "metadata": {},
     "output_type": "execute_result"
    }
   ],
   "source": [
    "## sum of the squares\n",
    "S_r = torch.sum(D_r**2)\n",
    "S_m = torch.sum(D_m**2)\n",
    "S_r, S_m"
   ]
  },
  {
   "cell_type": "code",
   "execution_count": 11,
   "metadata": {},
   "outputs": [
    {
     "data": {
      "text/plain": [
       "tensor(0.9572256804)"
      ]
     },
     "execution_count": 11,
     "metadata": {},
     "output_type": "execute_result"
    }
   ],
   "source": [
    "## ratio\n",
    "S_m / S_r"
   ]
  },
  {
   "cell_type": "code",
   "execution_count": 12,
   "metadata": {},
   "outputs": [],
   "source": [
    "## normalised_residuals\n",
    "var_r = (rdnoise)**2 + (prediction_r / G)\n",
    "var_m = (rdnoise)**2 + (prediction_m / G)\n",
    "\n",
    "nr_r = D_r / torch.sqrt(var_r)\n",
    "nr_m = D_m / torch.sqrt(var_m)"
   ]
  },
  {
   "cell_type": "code",
   "execution_count": 13,
   "metadata": {},
   "outputs": [
    {
     "data": {
      "image/png": "[encoded data removed]",
      "text/plain": [
       "<Figure size 360x360 with 1 Axes>"
      ]
     },
     "metadata": {
      "needs_background": "light"
     },
     "output_type": "display_data"
    }
   ],
   "source": [
    "plt.figure(figsize=(5,5))\n",
    "plt.hist(nr_r.numpy().flatten(), bins='auto', density=True)\n",
    "x = np.linspace(-5, 5, 100)\n",
    "plt.plot(x, norm.pdf(x, 0, 1))\n",
    "plt.xlim(-5, 5)\n",
    "plt.xticks(fontsize=20)\n",
    "plt.yticks(fontsize=20)\n",
    "plt.xlabel('Normalised residuals (border trimmed to reject the unfitted boundary stars)', fontsize=20)\n",
    "plt.ylabel('Probability', fontsize=20)\n",
    "plt.show();"
   ]
  },
  {
   "cell_type": "code",
   "execution_count": 14,
   "metadata": {},
   "outputs": [
    {
     "data": {
      "image/png": "[encoded data removed]",
      "text/plain": [
       "<Figure size 360x360 with 1 Axes>"
      ]
     },
     "metadata": {
      "needs_background": "light"
     },
     "output_type": "display_data"
    }
   ],
   "source": [
    "plt.figure(figsize=(5,5))\n",
    "plt.hist(nr_m.numpy().flatten(), bins='auto', density=True)\n",
    "x = np.linspace(-5, 5, 100)\n",
    "plt.plot(x, norm.pdf(x, 0, 1))\n",
    "plt.xlim(-5, 5)\n",
    "plt.xticks(fontsize=20)\n",
    "plt.yticks(fontsize=20)\n",
    "plt.xlabel('Normalised residuals (border trimmed to reject the unfitted boundary stars)', fontsize=20)\n",
    "plt.ylabel('Probability', fontsize=20)\n",
    "plt.show();"
   ]
  },
  {
   "cell_type": "code",
   "execution_count": 9,
   "metadata": {},
   "outputs": [],
   "source": [
    "#### noise comparison - effect of light deconvolution kernel?\n",
    "from astropy.stats import mad_std\n",
    "\n",
    "model_file1 = '81_LCO_phik0_LaPlace_1e-1_L2grad_1e-8_pass0.fits'\n",
    "model_file2 = '81_LCO_phik1_LaPlace_1e-1_L2grad_1e-8_pass0.fits'\n",
    "model_file3 = '81_LCO_phik1_L1_1e4_L2grad_1e-8_pass0.fits'\n",
    "model_file4 = '81_LCO_phik1_LaPlace_1e-1_L2grad_1e-5_pass0.fits'\n",
    "\n",
    "\n",
    "model1 = fits.getdata(os.path.join('SceneEstimates', model_file1))\n",
    "model2 = fits.getdata(os.path.join('SceneEstimates', model_file2))\n",
    "model3 = fits.getdata(os.path.join('SceneEstimates', model_file3))\n",
    "model4 = fits.getdata(os.path.join('SceneEstimates', model_file4))"
   ]
  },
  {
   "cell_type": "code",
   "execution_count": 10,
   "metadata": {},
   "outputs": [
    {
     "data": {
      "text/plain": [
       "(15.428844003079154, 16.020133892377874, 16.33938139786547, 15.512843555995872)"
      ]
     },
     "execution_count": 10,
     "metadata": {},
     "output_type": "execute_result"
    }
   ],
   "source": [
    "mad_std(model1), mad_std(model2), mad_std(model3), mad_std(model4)"
   ]
  },
  {
   "cell_type": "code",
   "execution_count": 12,
   "metadata": {},
   "outputs": [
    {
     "data": {
      "text/plain": [
       "(-69.268166, -92.95279, -96.51423, -96.399994)"
      ]
     },
     "execution_count": 12,
     "metadata": {},
     "output_type": "execute_result"
    }
   ],
   "source": [
    "np.min(model1), np.min(model2), np.min(model3), np.min(model4)"
   ]
  },
  {
   "cell_type": "code",
   "execution_count": 13,
   "metadata": {},
   "outputs": [
    {
     "data": {
      "text/plain": [
       "(2754.441, 3007.4727, 2987.0188, 2973.1052)"
      ]
     },
     "execution_count": 13,
     "metadata": {},
     "output_type": "execute_result"
    }
   ],
   "source": [
    "np.max(model1), np.max(model2), np.max(model3), np.max(model4)"
   ]
  },
  {
   "cell_type": "code",
   "execution_count": 15,
   "metadata": {},
   "outputs": [
    {
     "data": {
      "text/plain": [
       "(-0.42784208, -0.4205417, -1.0887692, -0.35249403)"
      ]
     },
     "execution_count": 15,
     "metadata": {},
     "output_type": "execute_result"
    }
   ],
   "source": [
    "np.median(model1), np.median(model2), np.median(model3), np.median(model4)"
   ]
  },
  {
   "cell_type": "code",
   "execution_count": 15,
   "metadata": {},
   "outputs": [],
   "source": [
    "model_file1 = '81_LCO_phik1_LaPlace_1e-1_L2grad_1e-5_clip_annealLR_pass0.fits'\n",
    "model_file2 = '81_LCO_phik1_LaPlace_1e-1_L2grad_1e-5_clip_annealLR_pass1.fits'\n",
    "model_file3 = '81_LCO_phik1_LaPlace_1e-1_L2grad_1e-5_clip_annealLR_pass2.fits'\n",
    "model_file4 = '81_LCO_phik1_LaPlace_1e-1_L2grad_1e-5_clip_annealLR_pass3.fits'\n",
    "\n",
    "model1 = fits.getdata(os.path.join('SceneEstimates', model_file1))\n",
    "model2 = fits.getdata(os.path.join('SceneEstimates', model_file2))\n",
    "model3 = fits.getdata(os.path.join('SceneEstimates', model_file3))\n",
    "model4 = fits.getdata(os.path.join('SceneEstimates', model_file4))"
   ]
  },
  {
   "cell_type": "code",
   "execution_count": 16,
   "metadata": {},
   "outputs": [
    {
     "data": {
      "text/plain": [
       "(14.291436129691082, 14.259717670020313, 14.294374254738818, 14.38114791802303)"
      ]
     },
     "execution_count": 16,
     "metadata": {},
     "output_type": "execute_result"
    }
   ],
   "source": [
    "mad_std(model1), mad_std(model2), mad_std(model3), mad_std(model4)"
   ]
  },
  {
   "cell_type": "code",
   "execution_count": 17,
   "metadata": {},
   "outputs": [
    {
     "data": {
      "text/plain": [
       "(-42.894375, -42.526947, -42.731167, -43.070923)"
      ]
     },
     "execution_count": 17,
     "metadata": {},
     "output_type": "execute_result"
    }
   ],
   "source": [
    "np.min(model1), np.min(model2), np.min(model3), np.min(model4)"
   ]
  },
  {
   "cell_type": "code",
   "execution_count": 18,
   "metadata": {},
   "outputs": [
    {
     "data": {
      "text/plain": [
       "(2426.303, 2480.0042, 2528.0667, 2572.2551)"
      ]
     },
     "execution_count": 18,
     "metadata": {},
     "output_type": "execute_result"
    }
   ],
   "source": [
    "np.max(model1), np.max(model2), np.max(model3), np.max(model4)"
   ]
  },
  {
   "cell_type": "code",
   "execution_count": 19,
   "metadata": {},
   "outputs": [
    {
     "data": {
      "text/plain": [
       "(-0.17030954, -0.13821594, -0.075441904, 0.02120888)"
      ]
     },
     "execution_count": 19,
     "metadata": {},
     "output_type": "execute_result"
    }
   ],
   "source": [
    "np.median(model1), np.median(model2), np.median(model3), np.median(model4)"
   ]
  },
  {
   "cell_type": "code",
   "execution_count": 13,
   "metadata": {},
   "outputs": [
    {
     "data": {
      "image/png": "[encoded data removed]",
      "text/plain": [
       "<Figure size 432x288 with 1 Axes>"
      ]
     },
     "metadata": {
      "needs_background": "light"
     },
     "output_type": "display_data"
    }
   ],
   "source": [
    "plt.hist(model1[model1 < 100], bins=100)[2];"
   ]
  },
  {
   "cell_type": "code",
   "execution_count": 20,
   "metadata": {},
   "outputs": [
    {
     "data": {
      "image/png": "[encoded data removed]",
      "text/plain": [
       "<Figure size 432x288 with 1 Axes>"
      ]
     },
     "metadata": {
      "needs_background": "light"
     },
     "output_type": "display_data"
    }
   ],
   "source": [
    "plt.hist(model3[model4 < 100], bins=100)[2];"
   ]
  },
  {
   "cell_type": "code",
   "execution_count": null,
   "metadata": {},
   "outputs": [],
   "source": []
  }
 ],
 "metadata": {
  "kernelspec": {
   "display_name": "Python 3",
   "language": "python",
   "name": "python3"
  },
  "language_info": {
   "codemirror_mode": {
    "name": "ipython",
    "version": 3
   },
   "file_extension": ".py",
   "mimetype": "text/x-python",
   "name": "python",
   "nbconvert_exporter": "python",
   "pygments_lexer": "ipython3",
   "version": "3.7.4"
  }
 },
 "nbformat": 4,
 "nbformat_minor": 2
}
